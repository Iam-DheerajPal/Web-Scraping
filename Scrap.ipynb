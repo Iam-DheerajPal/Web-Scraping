{
 "cells": [
  {
   "cell_type": "markdown",
   "id": "8fa97f48-e308-40c5-8a95-cd85610948ab",
   "metadata": {},
   "source": [
    "# IMPORTING REQUESTS "
   ]
  },
  {
   "cell_type": "code",
   "execution_count": 9,
   "id": "98e859fe-6344-49df-969e-ba65e1ec4dc1",
   "metadata": {},
   "outputs": [],
   "source": [
    "import requests"
   ]
  },
  {
   "cell_type": "markdown",
   "id": "bd77e53c-e3d8-44d6-86e6-8cad0ecb79bc",
   "metadata": {},
   "source": [
    "# REQUESTING TO GET WEBSITE"
   ]
  },
  {
   "cell_type": "code",
   "execution_count": 11,
   "id": "c2ca8cfc-35b6-4fe2-bf3e-af30d618d39d",
   "metadata": {},
   "outputs": [
    {
     "name": "stdout",
     "output_type": "stream",
     "text": [
      "<Response [200]>\n"
     ]
    }
   ],
   "source": [
    "web = requests.get(\"https://www.tutorialsfreak.com/\")\n",
    "print(web)"
   ]
  },
  {
   "cell_type": "code",
   "execution_count": 12,
   "id": "40e7457d-4b6a-4d32-84b3-ad429589aa5e",
   "metadata": {},
   "outputs": [
    {
     "data": {
      "text/plain": [
       "200"
      ]
     },
     "execution_count": 12,
     "metadata": {},
     "output_type": "execute_result"
    }
   ],
   "source": [
    "web.status_code"
   ]
  },
  {
   "cell_type": "markdown",
   "id": "da31e0a4-3461-48ad-acc7-02d935e0d2e4",
   "metadata": {},
   "source": [
    "# IMPORTING BEAUTIFULSOUP"
   ]
  },
  {
   "cell_type": "code",
   "execution_count": 13,
   "id": "28167b9d-8335-4f27-9672-08b3f0845882",
   "metadata": {},
   "outputs": [],
   "source": [
    "from bs4 import BeautifulSoup"
   ]
  },
  {
   "cell_type": "markdown",
   "id": "f54eebe1-5827-40a3-b7ba-3de94dcbd9cf",
   "metadata": {},
   "source": [
    "# PRETTIFY"
   ]
  },
  {
   "cell_type": "code",
   "execution_count": 122,
   "id": "f4cd9aa9-9f4a-49c0-9bdb-1fe03906617b",
   "metadata": {},
   "outputs": [],
   "source": [
    "sp = BeautifulSoup(web.content, \"html.parser\")\n",
    "#print(sp.prettify())"
   ]
  },
  {
   "cell_type": "markdown",
   "id": "72632861-d970-4957-92d9-ee6fd8482969",
   "metadata": {},
   "source": [
    "# GETTING CONTENT"
   ]
  },
  {
   "cell_type": "code",
   "execution_count": 121,
   "id": "12a19709-0c5c-498d-83f5-478d53234c12",
   "metadata": {},
   "outputs": [],
   "source": [
    "#web.content"
   ]
  },
  {
   "cell_type": "code",
   "execution_count": 16,
   "id": "31e945ae-4e12-4059-909d-0f78950204e8",
   "metadata": {},
   "outputs": [
    {
     "data": {
      "text/plain": [
       "<h1 class=\"main-heading my-3\">High-Quality, Practical-based, Free Tutorials</h1>"
      ]
     },
     "execution_count": 16,
     "metadata": {},
     "output_type": "execute_result"
    }
   ],
   "source": [
    "sp.h1"
   ]
  },
  {
   "cell_type": "code",
   "execution_count": 17,
   "id": "55574429-8718-4769-bdd5-4056ec9c0c7a",
   "metadata": {},
   "outputs": [
    {
     "data": {
      "text/plain": [
       "<title>Tutorials Freak: Free Online Tutorials to Learn &amp; Upskill</title>"
      ]
     },
     "execution_count": 17,
     "metadata": {},
     "output_type": "execute_result"
    }
   ],
   "source": [
    "sp.title"
   ]
  },
  {
   "cell_type": "code",
   "execution_count": 18,
   "id": "be3dda07-f30a-470c-99c4-698d019c37a6",
   "metadata": {},
   "outputs": [
    {
     "data": {
      "text/plain": [
       "<p class=\"section-subheading\">Kickstart effective learning with Tutorials Freak, with new content published every day.</p>"
      ]
     },
     "execution_count": 18,
     "metadata": {},
     "output_type": "execute_result"
    }
   ],
   "source": [
    "sp.p"
   ]
  },
  {
   "cell_type": "code",
   "execution_count": 22,
   "id": "681dc187-5d25-4a75-a70f-51e16685b706",
   "metadata": {},
   "outputs": [
    {
     "data": {
      "text/plain": [
       "<a class=\"header-logo-wrapper\" href=\"/\"><span class=\"me-lg-5 navbar-brand\"><span style=\"box-sizing:border-box;display:inline-block;overflow:hidden;width:initial;height:initial;background:none;opacity:1;border:0;margin:0;padding:0;position:relative;max-width:100%\"><span style=\"box-sizing:border-box;display:block;width:initial;height:initial;background:none;opacity:1;border:0;margin:0;padding:0;max-width:100%\"><img alt=\"\" aria-hidden=\"true\" src=\"data:image/svg+xml,%3csvg%20xmlns=%27http://www.w3.org/2000/svg%27%20version=%271.1%27%20width=%27192%27%20height=%2756%27/%3e\" style=\"display:block;max-width:100%;width:initial;height:initial;background:none;opacity:1;border:0;margin:0;padding:0\"/></span><img alt=\"Logo-Img\" class=\"img-fluid\" data-nimg=\"intrinsic\" decoding=\"async\" src=\"data:image/gif;base64,R0lGODlhAQABAIAAAAAAAP///yH5BAEAAAAALAAAAAABAAEAAAIBRAA7\" style=\"position:absolute;top:0;left:0;bottom:0;right:0;box-sizing:border-box;padding:0;border:none;margin:auto;display:block;width:0;height:0;min-width:100%;max-width:100%;min-height:100%;max-height:100%\"/><noscript><img alt=\"Logo-Img\" class=\"img-fluid\" data-nimg=\"intrinsic\" decoding=\"async\" loading=\"lazy\" src=\"/images/tutorials-freak-logo.svg\" srcset=\"/images/tutorials-freak-logo.svg 1x, /images/tutorials-freak-logo.svg 2x\" style=\"position:absolute;top:0;left:0;bottom:0;right:0;box-sizing:border-box;padding:0;border:none;margin:auto;display:block;width:0;height:0;min-width:100%;max-width:100%;min-height:100%;max-height:100%\"/></noscript></span></span></a>"
      ]
     },
     "execution_count": 22,
     "metadata": {},
     "output_type": "execute_result"
    }
   ],
   "source": [
    "sp.a"
   ]
  },
  {
   "cell_type": "code",
   "execution_count": 5,
   "id": "bae2bbe3-465b-4ad4-8675-e51819725700",
   "metadata": {},
   "outputs": [],
   "source": [
    "import requests\n",
    "\n",
    "from bs4 import BeautifulSoup\n",
    "wb = requests.get(\"https://www.tutorialsfreak.com/\")\n",
    "sp = BeautifulSoup(web.content, \"html.parser\")"
   ]
  },
  {
   "cell_type": "markdown",
   "id": "629837a9-079c-4742-a51b-66dc2af7c036",
   "metadata": {},
   "source": [
    "# TAG"
   ]
  },
  {
   "cell_type": "code",
   "execution_count": 24,
   "id": "7d3445ce-b416-42c7-88c2-0cab78d985a9",
   "metadata": {},
   "outputs": [],
   "source": [
    "tag = sp.html"
   ]
  },
  {
   "cell_type": "code",
   "execution_count": 25,
   "id": "03ba0b47-6b74-4e6e-b915-8cf9736f7b29",
   "metadata": {},
   "outputs": [
    {
     "data": {
      "text/plain": [
       "bs4.element.Tag"
      ]
     },
     "execution_count": 25,
     "metadata": {},
     "output_type": "execute_result"
    }
   ],
   "source": [
    "type(tag)"
   ]
  },
  {
   "cell_type": "code",
   "execution_count": 27,
   "id": "236f2a0b-1b76-4399-91ae-6e1a38dee523",
   "metadata": {},
   "outputs": [
    {
     "name": "stdout",
     "output_type": "stream",
     "text": [
      "<p class=\"section-subheading\">Kickstart effective learning with Tutorials Freak, with new content published every day.</p>\n"
     ]
    }
   ],
   "source": [
    "tag = sp.p\n",
    "print(tag)"
   ]
  },
  {
   "cell_type": "code",
   "execution_count": 6,
   "id": "96cb96cb-e0af-4d59-aca4-43b2fe4ae0d4",
   "metadata": {},
   "outputs": [
    {
     "name": "stdout",
     "output_type": "stream",
     "text": [
      "<h1 class=\"main-heading my-3\">High-Quality, Practical-based, Free Tutorials</h1>\n"
     ]
    }
   ],
   "source": [
    "tag = sp.h1\n",
    "print(tag)"
   ]
  },
  {
   "cell_type": "code",
   "execution_count": 29,
   "id": "0efb604e-55d2-48e8-9127-15e611967fc5",
   "metadata": {},
   "outputs": [
    {
     "name": "stdout",
     "output_type": "stream",
     "text": [
      "<img alt=\"\" aria-hidden=\"true\" src=\"data:image/svg+xml,%3csvg%20xmlns=%27http://www.w3.org/2000/svg%27%20version=%271.1%27%20width=%27192%27%20height=%2756%27/%3e\" style=\"display:block;max-width:100%;width:initial;height:initial;background:none;opacity:1;border:0;margin:0;padding:0\"/>\n"
     ]
    }
   ],
   "source": [
    "tag = sp.img\n",
    "print(tag)"
   ]
  },
  {
   "cell_type": "markdown",
   "id": "d8cc9a8f-1996-436c-b28d-d80b7dc68d11",
   "metadata": {},
   "source": [
    "# NAVIGABLE STRING"
   ]
  },
  {
   "cell_type": "code",
   "execution_count": 7,
   "id": "f12a1f53-8a76-4c7b-a9f6-1f4e635820a1",
   "metadata": {},
   "outputs": [
    {
     "name": "stdout",
     "output_type": "stream",
     "text": [
      "High-Quality, Practical-based, Free Tutorials\n"
     ]
    }
   ],
   "source": [
    "tag = sp.h1.string\n",
    "print(tag)"
   ]
  },
  {
   "cell_type": "code",
   "execution_count": 31,
   "id": "30315509-2231-4531-bd5b-19308124e6ef",
   "metadata": {},
   "outputs": [
    {
     "name": "stdout",
     "output_type": "stream",
     "text": [
      "Kickstart effective learning with Tutorials Freak, with new content published every day.\n"
     ]
    }
   ],
   "source": [
    "tag = sp.p.string\n",
    "print(tag)"
   ]
  },
  {
   "cell_type": "code",
   "execution_count": 32,
   "id": "2aa590d6-3a84-4332-b2a1-bbf71d338a63",
   "metadata": {},
   "outputs": [
    {
     "name": "stdout",
     "output_type": "stream",
     "text": [
      "Most Popular Tutorials\n"
     ]
    }
   ],
   "source": [
    "tag = sp.h2.string\n",
    "print(tag)"
   ]
  },
  {
   "cell_type": "markdown",
   "id": "51d3cb3b-a9c2-40f9-9395-88476737eac2",
   "metadata": {},
   "source": [
    "# BEAUTIFULSOUP\n"
   ]
  },
  {
   "cell_type": "code",
   "execution_count": 120,
   "id": "02602ffe-680e-4ac4-b7bd-69c89d91f227",
   "metadata": {},
   "outputs": [],
   "source": [
    "#sp.body"
   ]
  },
  {
   "cell_type": "code",
   "execution_count": 57,
   "id": "734ca4c9-021f-4586-8117-14e726b5de3b",
   "metadata": {},
   "outputs": [
    {
     "data": {
      "text/plain": [
       "<h1 class=\"main-heading my-3\">High-Quality, Practical-based, Free Tutorials</h1>"
      ]
     },
     "execution_count": 57,
     "metadata": {},
     "output_type": "execute_result"
    }
   ],
   "source": [
    "sp.find(\"h1\")"
   ]
  },
  {
   "cell_type": "code",
   "execution_count": 9,
   "id": "461d013c-5b8e-4edb-8641-32c981f6b4aa",
   "metadata": {},
   "outputs": [
    {
     "data": {
      "text/plain": [
       "[<h1 class=\"main-heading my-3\">High-Quality, Practical-based, Free Tutorials</h1>]"
      ]
     },
     "execution_count": 9,
     "metadata": {},
     "output_type": "execute_result"
    }
   ],
   "source": [
    "sp.find_all(\"h1\")"
   ]
  },
  {
   "cell_type": "code",
   "execution_count": 60,
   "id": "8112b49f-d004-40fe-9151-442491d4cbce",
   "metadata": {},
   "outputs": [],
   "source": [
    "a = sp.find_all(\"p\")\n"
   ]
  },
  {
   "cell_type": "code",
   "execution_count": 119,
   "id": "b8dccbd6-34d6-4bf7-a901-26835f15d40a",
   "metadata": {},
   "outputs": [],
   "source": [
    "aa = sp.find_all(\"div\")\n",
    "#print(aa)\n"
   ]
  },
  {
   "cell_type": "markdown",
   "id": "919cab77-3cb7-44f8-bdde-d55775c97cf8",
   "metadata": {},
   "source": [
    "# COMMENT"
   ]
  },
  {
   "cell_type": "code",
   "execution_count": 71,
   "id": "99457ef2-83b6-48d0-9b8b-6db652b51598",
   "metadata": {},
   "outputs": [
    {
     "data": {
      "text/plain": [
       "'Kickstart effective learning with Tutorials Freak, with new content published every day.'"
      ]
     },
     "execution_count": 71,
     "metadata": {},
     "output_type": "execute_result"
    }
   ],
   "source": [
    "cmt = sp.p.string   # here cmt can be comment for better understanding\n",
    "cmt"
   ]
  },
  {
   "cell_type": "code",
   "execution_count": 72,
   "id": "a9614ea9-7ea9-448e-908f-d80ff917d952",
   "metadata": {},
   "outputs": [
    {
     "name": "stdout",
     "output_type": "stream",
     "text": [
      "Kickstart effective learning with Tutorials Freak, with new content published every day.\n"
     ]
    }
   ],
   "source": [
    "print(cmt)"
   ]
  },
  {
   "cell_type": "markdown",
   "id": "6779eab0-5187-4d5c-a07f-ba84ff6f97c0",
   "metadata": {},
   "source": [
    "# FINDING ELEMENTS :-"
   ]
  },
  {
   "cell_type": "code",
   "execution_count": 12,
   "id": "d97d7d5e-45e9-418d-9ea8-0ae439a38a61",
   "metadata": {},
   "outputs": [],
   "source": [
    "import requests\n",
    "from bs4 import BeautifulSoup"
   ]
  },
  {
   "cell_type": "code",
   "execution_count": 118,
   "id": "58ea948f-c826-44a1-9976-ca42a93d485c",
   "metadata": {},
   "outputs": [],
   "source": [
    "web = requests.get(\"https://www.tutorialsfreak.com/\")\n",
    "soup = BeautifulSoup(web.content, \"html.parser\")\n",
    "dheeraj = soup.prettify()\n",
    "#print(dheeraj)\n",
    "#print(soup)"
   ]
  },
  {
   "cell_type": "code",
   "execution_count": 20,
   "id": "cca32b17-3120-49f4-be2b-9850741b7eaa",
   "metadata": {},
   "outputs": [
    {
     "data": {
      "text/plain": [
       "<h1 class=\"main-heading my-3\">High-Quality, Practical-based, Free Tutorials</h1>"
      ]
     },
     "execution_count": 20,
     "metadata": {},
     "output_type": "execute_result"
    }
   ],
   "source": [
    "soup.h1"
   ]
  },
  {
   "cell_type": "code",
   "execution_count": 22,
   "id": "e77ccff2-a18a-4306-83a5-e25d99a9741a",
   "metadata": {},
   "outputs": [
    {
     "data": {
      "text/plain": [
       "'High-Quality, Practical-based, Free Tutorials'"
      ]
     },
     "execution_count": 22,
     "metadata": {},
     "output_type": "execute_result"
    }
   ],
   "source": [
    "soup.h1.text"
   ]
  },
  {
   "cell_type": "code",
   "execution_count": 23,
   "id": "7542eb12-5bb1-48cf-a1a2-ff83958e078c",
   "metadata": {},
   "outputs": [
    {
     "data": {
      "text/plain": [
       "<p class=\"section-subheading\">Kickstart effective learning with Tutorials Freak, with new content published every day.</p>"
      ]
     },
     "execution_count": 23,
     "metadata": {},
     "output_type": "execute_result"
    }
   ],
   "source": [
    "soup.p"
   ]
  },
  {
   "cell_type": "code",
   "execution_count": 39,
   "id": "d9ed6441-6ee1-49a8-ab44-8e31835e35d5",
   "metadata": {},
   "outputs": [
    {
     "data": {
      "text/plain": [
       "'Kickstart effective learning with Tutorials Freak, with new content published every day.'"
      ]
     },
     "execution_count": 39,
     "metadata": {},
     "output_type": "execute_result"
    }
   ],
   "source": [
    "soup.p.get_text(strip = True)"
   ]
  },
  {
   "cell_type": "code",
   "execution_count": 36,
   "id": "72e4caa2-2e9c-4b40-a38f-f6a0311a835f",
   "metadata": {},
   "outputs": [
    {
     "name": "stdout",
     "output_type": "stream",
     "text": [
      "['Kickstart effective learning with Tutorials Freak, with new content published every day.', 'The entire content on the site is verified by pro developers and tech freaks.', 'The entire content on the site is verified by pro developers and tech freaks. Enabling self-directed learning so that you can learn at your pace and shape your own path.', 'Along with simplified tutorials, you get video content created by industry experts.', 'Learning programming and technical things can be complex. We are here to make it easy with simple and interactive tutorials.', 'Learning programming and technical things can be complex. We are here to make it easy with simple and interactive tutorials.', 'Explore the expert-curated interview questions with answers.', 'Plenty of quizzes with time duration and skill assessment.', 'Find coding examples with programs, output, easy explanations, and videos.', '', 'With an account, you get access to premium content and courses at no cost.', 'Download the app now to learn and practice hassle-free.', '©Tutorials Freak . All Rights Reserved | Design ByWsCube Tech']\n"
     ]
    }
   ],
   "source": [
    "d1 = soup.find_all('p')\n",
    "texts = [p.get_text(strip=True) for p in d1]\n",
    "print(texts)\n",
    "\n",
    "# get_text(strip = true) :- removes extra whitespaces and html tags, and returns only text from the content."
   ]
  },
  {
   "cell_type": "code",
   "execution_count": null,
   "id": "bb27dde5-5d9a-4f36-ab4c-4b3adc5201e5",
   "metadata": {},
   "outputs": [],
   "source": []
  },
  {
   "cell_type": "markdown",
   "id": "80da8822-13c5-4704-a1fd-418969635489",
   "metadata": {},
   "source": [
    "## Finding Elements by Class"
   ]
  },
  {
   "cell_type": "code",
   "execution_count": 58,
   "id": "45eb5d7c-b9e9-4962-8290-34deec53ef07",
   "metadata": {},
   "outputs": [
    {
     "data": {
      "text/plain": [
       "[<p class=\"section-subheading\">Kickstart effective learning with Tutorials Freak, with new content published every day.</p>,\n",
       " <p class=\"fs-16 fw-400 lh-24 label-color-1 card-text\">The entire content on the site is verified by pro developers and tech freaks.</p>,\n",
       " <p class=\"fs-16 fw-400 lh-24 label-color-1 card-text\">The entire content on the site is verified by pro developers and tech freaks. Enabling self-directed learning so that you can learn at your pace and shape your own path.</p>,\n",
       " <p class=\"fs-16 fw-400 lh-24 label-color-1 card-text\">Along with simplified tutorials, you get video content created by industry experts.</p>,\n",
       " <p class=\"fw-400 fs-20 lh-30 label-color-2 mb-lg-5\">Learning programming and technical things can be complex. We are here to make it easy with simple and interactive tutorials.</p>,\n",
       " <p class=\"section-subheading mb-0\">Learning programming and technical things can be complex. We are here to make it easy with simple and interactive tutorials.</p>,\n",
       " <p class=\"section-subheading mb-0\">Explore the expert-curated interview questions with answers.</p>,\n",
       " <p class=\"section-subheading mb-0\">Plenty of quizzes with time duration and skill assessment.</p>,\n",
       " <p class=\"section-subheading mb-0\">Find coding examples with programs, output, easy explanations, and videos.</p>,\n",
       " <p class=\"section-subheading mb-0\"><img class=\"img-fluid\" height=\"40\" src=\"/images/ws-cube-tech-logo.svg\" width=\"210\"/></p>,\n",
       " <p class=\"section-subheading pb-lg-5\">With an account, you get access to premium content and courses at no cost.</p>,\n",
       " <p class=\"section-subheading pe-md-5\">Download the app now to learn and practice hassle-free.</p>,\n",
       " <p class=\"fs-13 lh-24 label-color-1 mb-0 footer-content fw-500 text-center text-lg-end\">© <!-- --> Tutorials Freak . All Rights Reserved | Design By  <a class=\"text-decoration-none label-color-1 fw-400\" href=\"https://www.wscubetech.com/\" rel=\"noreferrer\" target=\"_blank\" title=\"WsCube Tech\">WsCube Tech</a></p>]"
      ]
     },
     "execution_count": 58,
     "metadata": {},
     "output_type": "execute_result"
    }
   ],
   "source": [
    "import requests\n",
    "from bs4 import BeautifulSoup\n",
    "\n",
    "web = requests.get(\"https://www.tutorialsfreak.com/\")\n",
    "soup = BeautifulSoup(web.content, \"html.parser\")\n",
    "\n",
    "cd = soup.find(\"div\", class_ =  \"wrapperr h-100\")\n",
    "cd.find_all('p')\n",
    "\n",
    "# the line where cd variable is defined is the syntax for finding elements by class, here reason for class_ is that class is a reserved keyword in python"
   ]
  },
  {
   "cell_type": "code",
   "execution_count": 62,
   "id": "e3a2853e-73c6-494d-9f09-6828f490c2f0",
   "metadata": {},
   "outputs": [
    {
     "name": "stdout",
     "output_type": "stream",
     "text": [
      "['', 'Learn & Upskill WithHigh-Quality, Practical-based, Free TutorialsKickstart effective learning with Tutorials Freak, with new content published every day.Start Learning!Verified & Reliable ContentThe entire content on the site is verified by pro developers and tech freaks.Self-Directed LearningThe entire content on the site is verified by pro developers and tech freaks. Enabling self-directed learning so that you can learn at your pace and shape your own path.Dual Learning MethodsAlong with simplified tutorials, you get video content created by industry experts.Our Unique ApproachWhy Tutorials Freak?Learning programming and technical things can be complex. We are here to make it easy with simple and interactive tutorials.Get Started NowContent Learners LoveMost Popular TutorialsLearning programming and technical things can be complex. We are here to make it easy with simple and interactive tutorials.Loading...Loading...Loading...Loading...View All TutorialsOnline Compilers for Seamless PracticeOnline C Compiler (Free Editor for C Programs)Start Coding COnline CSS Compiler and EditorStart Coding CSSOnline Compiler for HTML (HTML Editor & Code Runner)Run HTML Code OnlineOnline jQuery Editor and CompilerStart Coding jQueryC++ Compiler Online (Free Editor for C++ Programs)Start Coding C++Online PHP Compiler (Free PHP Editor)Start Coding PHPOnline Python Compiler (Free Editor for Python Programs)Start Coding PythonLand Your Dream Job By Preparing for Interview QuestionsExplore the expert-curated interview questions with answers.jQuery Interview QuestionsPHP Interview QuestionsGit Interview QuestionsReactJS Interview QuestionsWeb App Penetration Testing Interview QuestionsIoT Interview QuestionsGoogle Analytics Interview QuestionsJava Interview QuestionsPython Interview QuestionsAndroid Penetration Testing Interview QuestionsEthical Hacking Interview QuestionsNmap Interview QuestionsGoogle Ads Interview QuestionsChallenge Yourself With Free QuizzesPlenty of quizzes with time duration and skill assessment.ReactJS QuizWeb App Penetration Testing QuizIoT QuizPython QuizAndroid Penetration Testing QuizEthical Hacking QuizSEO QuizProgramming Examples For PracticeFind coding examples with programs, output, easy explanations, and videos.Java ProgramsPython ProgramsUpSkill With Live online coursesFull Stack Web Development CourseBuild High-Paying CareerWork on 10+ ProjectsLive Training by ExpertsBook Demo ClassDigital Marketing Course₹10 Lakh Per Year Average SalaryLive Mentorship & GuidanceHands-on Real ProjectsBook Demo ClassSEO CourseBecome Certified SEO ProLive Mentorship & GuidanceFree Domain, Web Hosting, ProjectsBook Demo ClassPython Certification Course45-days trainingHands-on projectsExpert mentorshipBook Demo ClassData Analytics CourseDevelop job-ready skillsProject-based approachCertification & mentorshipBook Demo ClassEthical Hacking Course2 months training100% practicalGet certifiedBook Demo ClassCreate your free account now on Tutorials Freak and unlock the entire content!With an account, you get access to premium content and courses at no cost.Explore All CoursesStart Learning!Get Tutorials Freak Mobile App to Learn on The Go!Download the app now to learn and practice hassle-free.Loading...Loading...Loading...Loading...Loading...FacebookTwiterInstagramLinkedInTerms & Conditions|Privacy Policy|About Us|Contact Us©Tutorials Freak . All Rights Reserved | Design ByWsCube Tech']\n"
     ]
    }
   ],
   "source": [
    "dhk = soup.find(\"div\", id = \"__next\")\n",
    "dhk.find_all('p')\n",
    "dhk2 = [p.get_text(strip = True) for p in dhk]\n",
    "print(dhk2)"
   ]
  },
  {
   "cell_type": "code",
   "execution_count": 63,
   "id": "20be6bc1-c02e-4435-a3b8-e3a6f54e9074",
   "metadata": {},
   "outputs": [
    {
     "name": "stdout",
     "output_type": "stream",
     "text": [
      "['Kickstart effective learning with Tutorials Freak, with new content published every day.', 'The entire content on the site is verified by pro developers and tech freaks.', 'The entire content on the site is verified by pro developers and tech freaks. Enabling self-directed learning so that you can learn at your pace and shape your own path.', 'Along with simplified tutorials, you get video content created by industry experts.', 'Learning programming and technical things can be complex. We are here to make it easy with simple and interactive tutorials.', 'Learning programming and technical things can be complex. We are here to make it easy with simple and interactive tutorials.', 'Explore the expert-curated interview questions with answers.', 'Plenty of quizzes with time duration and skill assessment.', 'Find coding examples with programs, output, easy explanations, and videos.', '', 'With an account, you get access to premium content and courses at no cost.', 'Download the app now to learn and practice hassle-free.', '©Tutorials Freak . All Rights Reserved | Design ByWsCube Tech']\n"
     ]
    }
   ],
   "source": [
    "dhk = soup.find(\"div\", id = \"__next\")\n",
    "dhk2 = dhk.find_all('p')\n",
    "dhk3 = [p.get_text(strip = True) for p in dhk2]\n",
    "print(dhk3)\n",
    "\n",
    "## strip ka use unwanted data symbols ko hatane liye kiya jaata hai"
   ]
  },
  {
   "cell_type": "code",
   "execution_count": null,
   "id": "20c5edbe-614f-401d-87a6-042d0b315610",
   "metadata": {},
   "outputs": [],
   "source": []
  },
  {
   "cell_type": "markdown",
   "id": "37ab4ec3-1a6d-44e5-a6b8-8c648ac583ab",
   "metadata": {},
   "source": [
    "# Finding Text From Different Tags :-"
   ]
  },
  {
   "cell_type": "markdown",
   "id": "004c6e09-a8ff-4182-95eb-bc3a1df8b269",
   "metadata": {},
   "source": [
    "## Using For Loop"
   ]
  },
  {
   "cell_type": "code",
   "execution_count": 67,
   "id": "aa1f1eb9-861a-4f84-b528-0ef4736f6c16",
   "metadata": {},
   "outputs": [
    {
     "name": "stdout",
     "output_type": "stream",
     "text": [
      "Kickstart effective learning with Tutorials Freak, with new content published every day.\n",
      "The entire content on the site is verified by pro developers and tech freaks.\n",
      "The entire content on the site is verified by pro developers and tech freaks. Enabling self-directed learning so that you can learn at your pace and shape your own path.\n",
      "Along with simplified tutorials, you get video content created by industry experts.\n",
      "Learning programming and technical things can be complex. We are here to make it easy with simple and interactive tutorials.\n",
      "Learning programming and technical things can be complex. We are here to make it easy with simple and interactive tutorials.\n",
      "Explore the expert-curated interview questions with answers.\n",
      "Plenty of quizzes with time duration and skill assessment.\n",
      "Find coding examples with programs, output, easy explanations, and videos.\n",
      "\n",
      "With an account, you get access to premium content and courses at no cost.\n",
      "Download the app now to learn and practice hassle-free.\n",
      "©  Tutorials Freak . All Rights Reserved | Design By  WsCube Tech\n"
     ]
    }
   ],
   "source": [
    "l1 = soup.find_all(\"p\")\n",
    "for l2 in l1:\n",
    "    print(l2.text)"
   ]
  },
  {
   "cell_type": "code",
   "execution_count": 69,
   "id": "2c89f316-ca9b-4884-b799-9962e80fc993",
   "metadata": {},
   "outputs": [
    {
     "name": "stdout",
     "output_type": "stream",
     "text": [
      "High-Quality, Practical-based, Free Tutorials\n",
      "Kickstart effective learning with Tutorials Freak, with new content published every day.\n",
      "Start Learning!\n"
     ]
    }
   ],
   "source": [
    "cls = soup.find(\"div\", class_ = \"banner-heading-wrapper\")\n",
    "for dheeraj in cls:\n",
    "    print(dheeraj.text)\n",
    "\n",
    "## For particular class or id , if we want to fetch data\n",
    "## Achha ek baat aur class is a reserved keyword in python"
   ]
  },
  {
   "cell_type": "markdown",
   "id": "55753a72-b1c0-4c04-be50-b164b86c9228",
   "metadata": {},
   "source": [
    "### Dekho dhyan se yha pr 3 different tag use hua hai, aur usme se kisi ek ka hi data lena hai to :"
   ]
  },
  {
   "cell_type": "code",
   "execution_count": 84,
   "id": "6df9bc6f-a74c-4463-800f-8183904d5331",
   "metadata": {},
   "outputs": [
    {
     "name": "stdout",
     "output_type": "stream",
     "text": [
      "[<div class=\"banner-heading-wrapper\"><h1 class=\"main-heading my-3\">High-Quality, Practical-based, Free Tutorials</h1><p class=\"section-subheading\">Kickstart effective learning with Tutorials Freak, with new content published every day.</p><button class=\"fs-18 fw-600 label-color-3 btn-background\" title=\"Start Learning!\">Start Learning!</button></div>]\n"
     ]
    }
   ],
   "source": [
    "dhk = soup.find_all(\"div\" , class_ = \"banner-heading-wrapper\")\n",
    "print(dhk.text)\n"
   ]
  },
  {
   "cell_type": "code",
   "execution_count": 98,
   "id": "1c8cf9d9-024f-4bbb-bbeb-a3a2930eb5c8",
   "metadata": {},
   "outputs": [
    {
     "name": "stdout",
     "output_type": "stream",
     "text": [
      "High-Quality, Practical-based, Free Tutorials\n",
      "Kickstart effective learning with Tutorials Freak, with new content published every day.\n"
     ]
    }
   ],
   "source": [
    "for dhk1 in dhk:\n",
    "    dhk2 = dhk1.find(\"h1\")\n",
    "    dhk3 = dhk1.find(\"p\")\n",
    "    print(dhk2.text)\n",
    "    print(dhk3.text)"
   ]
  },
  {
   "cell_type": "code",
   "execution_count": null,
   "id": "e75d0aa4-7e3c-447d-b42a-707fd6cac0ea",
   "metadata": {},
   "outputs": [],
   "source": []
  },
  {
   "cell_type": "markdown",
   "id": "4fd4a812-bc50-42f7-b6d4-bbaa97f8f861",
   "metadata": {},
   "source": [
    "# Finding & Extracting Links :-"
   ]
  },
  {
   "cell_type": "markdown",
   "id": "da1d6701-be53-4f93-b70e-b49992b695cf",
   "metadata": {},
   "source": [
    "import requests\n",
    "from bs4 import BeautifulSoup\n",
    "\n",
    "web = requests.get(\"https://www.tutorialsfreak.com/\")\n",
    "sp = BeautifulSoup(web.content, \"html.parser\")\n",
    "# print(sp.prettify())\n",
    "s = soup.find_all(\"a\")\n",
    "for d in s: \n",
    "    # print(d.text) :- print all the texts of anchor tags\n",
    "    print(d.get(\"href\").strip())\n"
   ]
  },
  {
   "cell_type": "code",
   "execution_count": null,
   "id": "d94ef4a8-6ac9-4774-a77b-6180cdc282e0",
   "metadata": {},
   "outputs": [],
   "source": []
  },
  {
   "cell_type": "code",
   "execution_count": null,
   "id": "a0053ed3-2593-410c-a7cb-16beb5183bb2",
   "metadata": {},
   "outputs": [],
   "source": []
  },
  {
   "cell_type": "markdown",
   "id": "e6f025a1-5662-41aa-9387-267b4995eafe",
   "metadata": {},
   "source": [
    "# Getting Image & its Info :-"
   ]
  },
  {
   "cell_type": "code",
   "execution_count": 124,
   "id": "87a0d88a-7b56-412b-a3a6-33e2fecdd79c",
   "metadata": {},
   "outputs": [
    {
     "ename": "_IncompleteInputError",
     "evalue": "incomplete input (3720356577.py, line 11)",
     "output_type": "error",
     "traceback": [
      "  \u001b[36mCell\u001b[39m\u001b[36m \u001b[39m\u001b[32mIn[124]\u001b[39m\u001b[32m, line 11\u001b[39m\n\u001b[31m    \u001b[39m\u001b[31m# print(src.get(\"src\"))\u001b[39m\n                           ^\n\u001b[31m_IncompleteInputError\u001b[39m\u001b[31m:\u001b[39m incomplete input\n"
     ]
    }
   ],
   "source": [
    "import requests\n",
    "from bs4 import BeautifulSoup\n",
    "\n",
    "web = requests.get(\"https://www.tutorialsfreak.com/\")\n",
    "## print(web) :- if response is <Response [200]> then it mean ki kaaam kiya jaa sakta hai\n",
    "\n",
    "sp = BeautifulSoup(web.content,\"html.parser\")\n",
    "\n",
    "img = sp.find_all(\"img\")\n",
    "for src in img:\n",
    "   # print(src.get(\"src\"))"
   ]
  },
  {
   "cell_type": "code",
   "execution_count": null,
   "id": "25d04854-254b-4b8e-a892-ad1752755e8c",
   "metadata": {},
   "outputs": [],
   "source": []
  }
 ],
 "metadata": {
  "kernelspec": {
   "display_name": "Python 3 (ipykernel)",
   "language": "python",
   "name": "python3"
  },
  "language_info": {
   "codemirror_mode": {
    "name": "ipython",
    "version": 3
   },
   "file_extension": ".py",
   "mimetype": "text/x-python",
   "name": "python",
   "nbconvert_exporter": "python",
   "pygments_lexer": "ipython3",
   "version": "3.13.2"
  }
 },
 "nbformat": 4,
 "nbformat_minor": 5
}
